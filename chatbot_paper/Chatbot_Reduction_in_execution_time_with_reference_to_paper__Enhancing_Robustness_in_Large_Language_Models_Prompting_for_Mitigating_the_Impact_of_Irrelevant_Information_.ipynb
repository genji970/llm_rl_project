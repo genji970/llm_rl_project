{
  "nbformat": 4,
  "nbformat_minor": 0,
  "metadata": {
    "colab": {
      "provenance": [],
      "machine_shape": "hm",
      "gpuType": "L4"
    },
    "kernelspec": {
      "name": "python3",
      "display_name": "Python 3"
    },
    "language_info": {
      "name": "python"
    },
    "accelerator": "GPU"
  },
  "cells": [
    {
      "cell_type": "markdown",
      "source": [
        "# **openai api , faiss를 부른다**"
      ],
      "metadata": {
        "id": "zJrUJKnFLBgk"
      }
    },
    {
      "cell_type": "code",
      "source": [
        "pip install faiss-cpu openai # faiss는 openai 호출 전 rag활용 목적"
      ],
      "metadata": {
        "id": "EjmZ7LKALA4O"
      },
      "execution_count": null,
      "outputs": []
    },
    {
      "cell_type": "code",
      "source": [
        "import openai\n",
        "import os\n",
        "import faiss\n",
        "import numpy as np\n",
        "from sentence_transformers import SentenceTransformer # sentence_transformers로 단어간이 아니라 문장 간의 유사성을 벡터공간에서 찾는다\n",
        "import torch\n",
        "from transformers import AutoTokenizer, AutoModelForCausalLM\n",
        "from transformers import pipeline\n",
        "\n",
        "import json\n",
        "import time"
      ],
      "metadata": {
        "id": "U4rJ40JFTasA"
      },
      "execution_count": null,
      "outputs": []
    },
    {
      "cell_type": "markdown",
      "source": [
        "# **openai 키**"
      ],
      "metadata": {
        "id": "hbRJRMHl_vOe"
      }
    },
    {
      "cell_type": "code",
      "source": [
        "openai.api_key = \"Your api key here\""
      ],
      "metadata": {
        "id": "egCi8zfZLKvf"
      },
      "execution_count": null,
      "outputs": []
    },
    {
      "cell_type": "markdown",
      "source": [
        "# **논문의 데이터 다운로드**"
      ],
      "metadata": {
        "id": "af2PFVm-_wxS"
      }
    },
    {
      "cell_type": "code",
      "source": [
        "!pip install requests\n",
        "import requests"
      ],
      "metadata": {
        "id": "cUPxdcx2_w2W"
      },
      "execution_count": null,
      "outputs": []
    },
    {
      "cell_type": "code",
      "source": [
        "# URL 설정\n",
        "url = \"https://raw.githubusercontent.com/ymt9/GSMIR/refs/heads/master/IR.json\"\n",
        "\n",
        "# 요청하여 데이터 다운로드\n",
        "response = requests.get(url)\n",
        "\n",
        "# 요청이 성공했는지 확인\n",
        "if response.status_code == 200:\n",
        "    # JSON 데이터를 파일로 저장\n",
        "    with open(\"IR.json\", \"wb\") as file:\n",
        "        file.write(response.content)\n",
        "    print(\"다운로드 완료: IR.json 파일이 저장되었습니다.\")\n",
        "else:\n",
        "    print(f\"파일 다운로드 실패. 상태 코드: {response.status_code}\")"
      ],
      "metadata": {
        "colab": {
          "base_uri": "https://localhost:8080/"
        },
        "id": "p0TB38Rs_2lR",
        "outputId": "f6118f6c-c680-4fa0-9479-1857dd70fd2f"
      },
      "execution_count": null,
      "outputs": [
        {
          "output_type": "stream",
          "name": "stdout",
          "text": [
            "다운로드 완료: IR.json 파일이 저장되었습니다.\n"
          ]
        }
      ]
    },
    {
      "cell_type": "markdown",
      "source": [
        "구글 드라이브 마운트"
      ],
      "metadata": {
        "id": "EIgKBcFjAFwV"
      }
    },
    {
      "cell_type": "code",
      "source": [
        "from google.colab import drive\n",
        "drive.mount('/content/drive')"
      ],
      "metadata": {
        "colab": {
          "base_uri": "https://localhost:8080/"
        },
        "id": "VLA0HAQ6AF0n",
        "outputId": "7eb20ab4-82db-4fc7-fcff-be64c172915b"
      },
      "execution_count": null,
      "outputs": [
        {
          "output_type": "stream",
          "name": "stdout",
          "text": [
            "Drive already mounted at /content/drive; to attempt to forcibly remount, call drive.mount(\"/content/drive\", force_remount=True).\n"
          ]
        }
      ]
    },
    {
      "cell_type": "code",
      "source": [
        "# 파일을 Google Drive로 이동\n",
        "!cp /content/IR.json /content/drive/MyDrive/IR.json"
      ],
      "metadata": {
        "id": "-gK51r35AHto"
      },
      "execution_count": null,
      "outputs": []
    },
    {
      "cell_type": "markdown",
      "source": [
        "MyDrive에서 json 파일 읽어오기"
      ],
      "metadata": {
        "id": "0DqmhxhoH3o1"
      }
    },
    {
      "cell_type": "code",
      "source": [
        "# JSON 파일 경로 설정\n",
        "file_path = '/content/drive/MyDrive/IR.json'  # 파일 경로 수정\n",
        "\n",
        "# JSON 파일 열고 데이터 로드\n",
        "with open(file_path, 'r') as f:\n",
        "    data = json.load(f)"
      ],
      "metadata": {
        "id": "1iazGP4LHjrn"
      },
      "execution_count": null,
      "outputs": []
    },
    {
      "cell_type": "markdown",
      "source": [
        "data 출력"
      ],
      "metadata": {
        "id": "DL5TKtEQIZz9"
      }
    },
    {
      "cell_type": "code",
      "source": [
        "print(data)"
      ],
      "metadata": {
        "id": "j8HRq3l_IZ38"
      },
      "execution_count": null,
      "outputs": []
    },
    {
      "cell_type": "markdown",
      "source": [
        "# **문서 임베딩 공간 생성**"
      ],
      "metadata": {
        "id": "WNiq3LAZT5of"
      }
    },
    {
      "cell_type": "markdown",
      "source": [
        "# **받아온 논문의 데이터를 SentenceTransformer에 넣을 수 있는 document로 형식을 변환**"
      ],
      "metadata": {
        "id": "wPUMsDasKoGl"
      }
    },
    {
      "cell_type": "markdown",
      "source": [
        "context , question , answer , con를 받아 무엇이 irrelevant 단어들인지 **파악한다**"
      ],
      "metadata": {
        "id": "LueKod1ZNnaE"
      }
    },
    {
      "cell_type": "code",
      "source": [
        "# documents 리스트 생성\n",
        "documents = []\n",
        "for item in data[\"data\"]:\n",
        "    # 각 항목의 텍스트 필드를 결합하여 하나의 문자열로 생성\n",
        "    document_text = f\"{item['context']} {item['question']} {item['answer']} {item['con']}\"\n",
        "    documents.append(document_text)"
      ],
      "metadata": {
        "id": "yFbAApluKoM0"
      },
      "execution_count": null,
      "outputs": []
    },
    {
      "cell_type": "markdown",
      "source": [
        "documents 결과 확인"
      ],
      "metadata": {
        "id": "aexDJq6GKwxZ"
      }
    },
    {
      "cell_type": "code",
      "source": [
        "documents"
      ],
      "metadata": {
        "id": "qE0CREzeKw2C"
      },
      "execution_count": null,
      "outputs": []
    },
    {
      "cell_type": "markdown",
      "source": [
        "document"
      ],
      "metadata": {
        "id": "x1Fa97LmvBlJ"
      }
    },
    {
      "cell_type": "code",
      "source": [
        "# 사전 학습된 임베딩 모델 로드 (예: all-MiniLM-L6-v2)\n",
        "embedding_model = SentenceTransformer(\"all-MiniLM-L6-v2\")\n",
        "doc_embeddings = embedding_model.encode(documents)"
      ],
      "metadata": {
        "id": "K827M1T4T_Qn"
      },
      "execution_count": null,
      "outputs": []
    },
    {
      "cell_type": "code",
      "source": [
        "# 2. FAISS 인덱스 구축\n",
        "index = faiss.IndexFlatL2(doc_embeddings.shape[1])  # L2 거리 사용\n",
        "index.add(np.array(doc_embeddings))  # 임베딩 추가"
      ],
      "metadata": {
        "id": "skxO2RzbUBm1"
      },
      "execution_count": null,
      "outputs": []
    },
    {
      "cell_type": "code",
      "source": [
        "# 3. 질문을 통한 관련 문서 검색\n",
        "def retrieve_relevant_documents(query, top_k=2):\n",
        "    query_embedding = embedding_model.encode([query])\n",
        "    distances, indices = index.search(np.array(query_embedding), top_k)\n",
        "    return [documents[i] for i in indices[0]]"
      ],
      "metadata": {
        "id": "n1_PrYUJUX0c"
      },
      "execution_count": null,
      "outputs": []
    },
    {
      "cell_type": "markdown",
      "source": [
        "## **ChatGPT API 호출**"
      ],
      "metadata": {
        "id": "pSdwEGVvLQe3"
      }
    },
    {
      "cell_type": "code",
      "source": [
        "# 4. ChatGPT API 호출\n",
        "def generate_answer(query):\n",
        "    # 질문에 관련된 문서 검색\n",
        "    related_docs = retrieve_relevant_documents(query)\n",
        "    context = \"\\n\".join(related_docs)  # 검색된 문서들을 하나의 텍스트로 결합\n",
        "\n",
        "    # ChatGPT API 호출\n",
        "    response = openai.ChatCompletion.create(\n",
        "        model=\"gpt-4o-mini\",\n",
        "        messages=[\n",
        "            {\"role\": \"system\", \"content\": \"You are a helpful assistant.\"},\n",
        "            {\"role\": \"user\", \"content\": f\"Context: {context}\\nQuestion: {query}\"},\n",
        "        ],\n",
        "        max_tokens=1000,\n",
        "        temperature=0.7\n",
        "    )\n",
        "\n",
        "    return response.choices[0].message[\"content\"]\n",
        "\n",
        "###\n",
        "#rag를 쓰지 않는 chatgpt api 호출\n",
        "\n",
        "# 4. ChatGPT API 호출\n",
        "def generate_answer_without_context(query):\n",
        "\n",
        "    # ChatGPT API 호출\n",
        "    response = openai.ChatCompletion.create(\n",
        "        model=\"gpt-4o-mini\",\n",
        "        messages=[\n",
        "            {\"role\": \"system\", \"content\": \"You are a helpful assistant.\"},\n",
        "            {\"role\": \"user\", \"content\": f\"Question: {query}\"},\n",
        "        ],\n",
        "        max_tokens=1000,\n",
        "        temperature=0.7\n",
        "    )\n",
        "\n",
        "    return response.choices[0].message[\"content\"]"
      ],
      "metadata": {
        "id": "dzfbShbTLRJU"
      },
      "execution_count": null,
      "outputs": []
    },
    {
      "cell_type": "markdown",
      "source": [
        "# **출력 결과**"
      ],
      "metadata": {
        "id": "tuMohSOYLdpH"
      }
    },
    {
      "cell_type": "markdown",
      "source": [
        "질문"
      ],
      "metadata": {
        "id": "y94U8y-MU93E"
      }
    },
    {
      "cell_type": "markdown",
      "source": [
        "# **generate_answer에 오류가 생기므로 openai 버전을 downgrade시킨다**"
      ],
      "metadata": {
        "id": "_jXCe2WWYJPe"
      }
    },
    {
      "cell_type": "code",
      "source": [
        "!pip install openai==0.28"
      ],
      "metadata": {
        "id": "IyLdaugQYNlW"
      },
      "execution_count": null,
      "outputs": []
    },
    {
      "cell_type": "markdown",
      "source": [
        "# **Original query**"
      ],
      "metadata": {
        "id": "VZRv8rLhRACl"
      }
    },
    {
      "cell_type": "code",
      "source": [
        "query = \"John pays for half the cost of raising a child. It cost $10,000 a year for the first 8 years and then twice that much per year until the child is 18. University tuition then costs $250,000. How much did it cost?\""
      ],
      "metadata": {
        "id": "3_8etcpxU-BB"
      },
      "execution_count": null,
      "outputs": []
    },
    {
      "cell_type": "markdown",
      "source": [
        "아무 context 투입 없는 **prompt**"
      ],
      "metadata": {
        "id": "BDXYktYIQ9BR"
      }
    },
    {
      "cell_type": "code",
      "source": [
        "#질문에 대한 답변 생성\n",
        "#answer = generate_answer(query)\n",
        "\n",
        "start_time = time.time()\n",
        "answer = generate_answer_without_context(query)\n",
        "end_time = time.time()\n",
        "\n",
        "# 걸린 시간 출력\n",
        "elapsed_time = end_time - start_time\n",
        "print(f\"걸린 시간 : {elapsed_time}초\")\n",
        "print(\"Answer:\", answer)"
      ],
      "metadata": {
        "colab": {
          "base_uri": "https://localhost:8080/"
        },
        "id": "Yt5liUYGLdzh",
        "outputId": "ccf954b3-966d-4260-86f7-ff9b3555bd57"
      },
      "execution_count": null,
      "outputs": [
        {
          "output_type": "stream",
          "name": "stdout",
          "text": [
            "걸린 시간 : 5.012379169464111초\n",
            "Answer: To calculate the total cost of raising the child, we need to break it down into segments according to the information provided.\n",
            "\n",
            "1. **Cost for the first 8 years:**\n",
            "   - Cost per year: $10,000\n",
            "   - Total cost for 8 years: \n",
            "   \\[\n",
            "   8 \\times 10,000 = 80,000\n",
            "   \\]\n",
            "\n",
            "2. **Cost from age 9 to age 18:**\n",
            "   - Cost per year after age 8: $20,000 (since it's twice the cost of the first 8 years)\n",
            "   - Duration: 10 years (from age 9 to age 18)\n",
            "   - Total cost for these 10 years:\n",
            "   \\[\n",
            "   10 \\times 20,000 = 200,000\n",
            "   \\]\n",
            "\n",
            "3. **University tuition:**\n",
            "   - Total cost: $250,000\n",
            "\n",
            "Now, we sum all these costs together to find the total cost of raising the child:\n",
            "\n",
            "\\[\n",
            "\\text{Total cost} = \\text{Cost for the first 8 years} + \\text{Cost from age 9 to 18} + \\text{University tuition}\n",
            "\\]\n",
            "\\[\n",
            "= 80,000 + 200,000 + 250,000 = 530,000\n",
            "\\]\n",
            "\n",
            "Since John pays for half the cost of raising the child, we can find out how much he pays:\n",
            "\n",
            "\\[\n",
            "\\text{John's cost} = \\frac{530,000}{2} = 265,000\n",
            "\\]\n",
            "\n",
            "Thus, the total cost of raising the child is **$530,000**.\n"
          ]
        }
      ]
    },
    {
      "cell_type": "markdown",
      "source": [
        "# **irrelevant 정보가 포함된 query**"
      ],
      "metadata": {
        "id": "YP1WcLUBQhR8"
      }
    },
    {
      "cell_type": "code",
      "source": [
        "query = \"John pays for half the cost of raising a child. It cost $10,000 a year for the first 8 years and then twice that much per year until the child is 18. University tuition then costs $250,000.He observed that the ratio of paper money to coins was 1:3.\""
      ],
      "metadata": {
        "id": "a9E8KaLtQhet"
      },
      "execution_count": null,
      "outputs": []
    },
    {
      "cell_type": "markdown",
      "source": [
        "아무 context 투입 없는 **prompt**"
      ],
      "metadata": {
        "id": "gO86qYYzQoox"
      }
    },
    {
      "cell_type": "code",
      "source": [
        "#질문에 대한 답변 생성\n",
        "#answer = generate_answer(query)\n",
        "\n",
        "start_time = time.time()\n",
        "answer = generate_answer_without_context(query)\n",
        "end_time = time.time()\n",
        "\n",
        "# 걸린 시간 출력\n",
        "elapsed_time = end_time - start_time\n",
        "print(f\"걸린 시간 : {elapsed_time}초\")\n",
        "print(\"Answer:\", answer)"
      ],
      "metadata": {
        "colab": {
          "base_uri": "https://localhost:8080/"
        },
        "id": "E0_0IdIxQoto",
        "outputId": "c74b4347-5216-4156-fee2-6e0943bc1c44"
      },
      "execution_count": null,
      "outputs": [
        {
          "output_type": "stream",
          "name": "stdout",
          "text": [
            "걸린 시간 : 8.860401630401611초\n",
            "Answer: To calculate the total cost of raising the child until the age of 18 and the university tuition, we can break it down into two parts: the first 8 years and the following 10 years.\n",
            "\n",
            "1. **Cost for the first 8 years:**\n",
            "   - Annual cost: $10,000\n",
            "   - Total cost for 8 years = $10,000/year × 8 years = $80,000\n",
            "\n",
            "2. **Cost for the next 10 years (from age 8 to 18):**\n",
            "   - Annual cost: $10,000 × 2 = $20,000\n",
            "   - Total cost for 10 years = $20,000/year × 10 years = $200,000\n",
            "\n",
            "3. **University tuition:**\n",
            "   - Total cost = $250,000\n",
            "\n",
            "4. **Total cost of raising the child until age 18:**\n",
            "   - Total cost = Cost for the first 8 years + Cost for the next 10 years + University tuition\n",
            "   - Total cost = $80,000 + $200,000 + $250,000 = $530,000\n",
            "\n",
            "5. **John pays for half the cost:**\n",
            "   - John's total payment = $530,000 / 2 = $265,000\n",
            "\n",
            "Now, regarding the ratio of paper money to coins being 1:3, this means for every 1 unit of paper money, there are 3 units of coins. If John has a total amount of money that includes both paper and coins, we can express that as follows:\n",
            "\n",
            "Let \\( x \\) be the amount of paper money. Then the amount of coins is \\( 3x \\). Therefore, the total amount of money John has can be expressed as:\n",
            "\\[ \\text{Total money} = x + 3x = 4x \\]\n",
            "\n",
            "If we know how much he has in total, we could find the specific amounts of paper and coins. However, without further information about the total amount of money, we cannot determine the exact amounts of paper money and coins.\n",
            "\n",
            "In summary, the cost of raising the child until 18 years old is $530,000, and John pays $265,000. The ratio of paper money to coins is 1:3.\n"
          ]
        }
      ]
    },
    {
      "cell_type": "markdown",
      "source": [
        "# **Original query**"
      ],
      "metadata": {
        "id": "VePFbpmWSAOT"
      }
    },
    {
      "cell_type": "code",
      "source": [
        "query = \"John pays for half the cost of raising a child. It cost $10,000 a year for the first 8 years and then twice that much per year until the child is 18. University tuition then costs $250,000. How much did it cost?\""
      ],
      "metadata": {
        "id": "3gpC2AlySAUY"
      },
      "execution_count": null,
      "outputs": []
    },
    {
      "cell_type": "markdown",
      "source": [
        "context가 추가된 **prompt**"
      ],
      "metadata": {
        "id": "iBwVi-A_SU1z"
      }
    },
    {
      "cell_type": "code",
      "source": [
        "#질문에 대한 답변 생성\n",
        "#answer = generate_answer(query)\n",
        "\n",
        "start_time = time.time()\n",
        "answer = generate_answer(query)\n",
        "end_time = time.time()\n",
        "\n",
        "# 걸린 시간 출력\n",
        "elapsed_time = end_time - start_time\n",
        "print(f\"걸린 시간 : {elapsed_time}초\")\n",
        "print(\"Answer:\", answer)"
      ],
      "metadata": {
        "colab": {
          "base_uri": "https://localhost:8080/"
        },
        "id": "0utvRD9_SRUZ",
        "outputId": "033238f2-d53d-4faa-ad44-7e9596498823"
      },
      "execution_count": null,
      "outputs": [
        {
          "output_type": "stream",
          "name": "stdout",
          "text": [
            "걸린 시간 : 4.791372776031494초\n",
            "Answer: To calculate the total cost of raising the child, we will break down the costs by age group.\n",
            "\n",
            "1. **First 8 years**: \n",
            "   - Cost per year = $10,000\n",
            "   - Total for 8 years = 8 * $10,000 = $80,000\n",
            "\n",
            "2. **Years 9 to 18**:\n",
            "   - Cost per year = $20,000 (which is twice the cost of the first 8 years)\n",
            "   - Number of years = 10\n",
            "   - Total for these years = 10 * $20,000 = $200,000\n",
            "\n",
            "3. **University tuition**:\n",
            "   - Total cost = $250,000\n",
            "\n",
            "Now, we will add all these costs together:\n",
            "\n",
            "- Total cost for the first 8 years: $80,000\n",
            "- Total cost for years 9 to 18: $200,000\n",
            "- University tuition: $250,000\n",
            "\n",
            "Total cost = $80,000 + $200,000 + $250,000 = $530,000\n",
            "\n",
            "Since John pays for half of the cost, we will divide the total by 2:\n",
            "\n",
            "Half of the total cost = $530,000 / 2 = $265,000\n",
            "\n",
            "Therefore, the total cost that John is responsible for is **$265,000**. \n",
            "\n",
            "Regarding irrelevant information, the statements about receipts for paying tuition fees and noticing $2000 in his pocket do not affect the calculation of the child's cost of raising. Hence, they are irrelevant to the question at hand.\n"
          ]
        }
      ]
    },
    {
      "cell_type": "markdown",
      "source": [
        "# **irrelevant 정보가 포함된 query**"
      ],
      "metadata": {
        "id": "g6tfU8EvSffS"
      }
    },
    {
      "cell_type": "code",
      "source": [
        "query = \"John pays for half the cost of raising a child. It cost $10,000 a year for the first 8 years and then twice that much per year until the child is 18. University tuition then costs $250,000.He observed that the ratio of paper money to coins was 1:3.\""
      ],
      "metadata": {
        "id": "-pgUh9kaSfm4"
      },
      "execution_count": null,
      "outputs": []
    },
    {
      "cell_type": "markdown",
      "source": [
        "context가 있는 **query**"
      ],
      "metadata": {
        "id": "A9tdm_3ySmN9"
      }
    },
    {
      "cell_type": "code",
      "source": [
        "#질문에 대한 답변 생성\n",
        "#answer = generate_answer(query)\n",
        "\n",
        "start_time = time.time()\n",
        "answer = generate_answer(query)\n",
        "end_time = time.time()\n",
        "\n",
        "# 걸린 시간 출력\n",
        "elapsed_time = end_time - start_time\n",
        "print(f\"걸린 시간 : {elapsed_time}초\")\n",
        "print(\"Answer:\", answer)"
      ],
      "metadata": {
        "colab": {
          "base_uri": "https://localhost:8080/"
        },
        "id": "IstLv0OxSmSA",
        "outputId": "7e018a4e-bfcb-4e21-bc1b-e9f3a8b9e25a"
      },
      "execution_count": null,
      "outputs": [
        {
          "output_type": "stream",
          "name": "stdout",
          "text": [
            "걸린 시간 : 6.234113454818726초\n",
            "Answer: To calculate the total cost of raising a child until the age of 18, we can break it down as follows:\n",
            "\n",
            "1. **Cost for the first 8 years**: \n",
            "   - Annual cost = $10,000\n",
            "   - Total cost for 8 years = $10,000 * 8 = $80,000\n",
            "\n",
            "2. **Cost for the next 10 years (from age 9 to 18)**: \n",
            "   - Annual cost = $10,000 * 2 = $20,000\n",
            "   - Total cost for 10 years = $20,000 * 10 = $200,000\n",
            "\n",
            "3. **University tuition**:\n",
            "   - Total cost = $250,000\n",
            "\n",
            "Now, let's add all these costs together:\n",
            "- Total cost for raising the child = Cost for first 8 years + Cost for next 10 years + University tuition\n",
            "- Total cost = $80,000 + $200,000 + $250,000 = $530,000\n",
            "\n",
            "Since John pays for half the cost, we divide this total by 2:\n",
            "- John's cost = $530,000 / 2 = $265,000\n",
            "\n",
            "### Summary of Relevant and Irrelevant Information\n",
            "- **Relevant Information**: \n",
            "  - The annual costs for the first 8 years and the subsequent years.\n",
            "  - The cost of university tuition.\n",
            "  - That John pays for half of these costs.\n",
            "\n",
            "- **Irrelevant Information**: \n",
            "  - The ratio of paper money to coins (1:3).\n",
            "  - John's opinion on storing $100 per day for child support.\n",
            "\n",
            "### Final Answer\n",
            "The total cost for John to pay for half of raising the child until age 18, including university tuition, is **$265,000**. The irrelevant information pertains to observations about money and personal opinions on payment methods.\n"
          ]
        }
      ]
    }
  ]
}